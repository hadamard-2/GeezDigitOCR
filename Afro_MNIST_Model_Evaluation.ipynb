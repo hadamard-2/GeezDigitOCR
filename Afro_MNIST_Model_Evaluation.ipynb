{
  "nbformat": 4,
  "nbformat_minor": 0,
  "metadata": {
    "colab": {
      "provenance": [],
      "mount_file_id": "1lzfFOXauynTSByCgbz6RCcXVwrhPpXba",
      "authorship_tag": "ABX9TyMLXNnCYIjmkDJPkUhQN+0l",
      "include_colab_link": true
    },
    "kernelspec": {
      "name": "python3",
      "display_name": "Python 3"
    },
    "language_info": {
      "name": "python"
    }
  },
  "cells": [
    {
      "cell_type": "markdown",
      "metadata": {
        "id": "view-in-github",
        "colab_type": "text"
      },
      "source": [
        "<a href=\"https://colab.research.google.com/github/hadamard-2/GeezDigitsOCR/blob/main/Afro_MNIST_Model_Evaluation.ipynb\" target=\"_parent\"><img src=\"https://colab.research.google.com/assets/colab-badge.svg\" alt=\"Open In Colab\"/></a>"
      ]
    },
    {
      "cell_type": "code",
      "execution_count": 1,
      "metadata": {
        "id": "Xgk9qVqR4m3o"
      },
      "outputs": [],
      "source": [
        "import tensorflow as tf\n",
        "import numpy as np\n",
        "from sklearn.metrics import accuracy_score, precision_score, recall_score, f1_score"
      ]
    },
    {
      "cell_type": "code",
      "source": [
        "path = \"/content/drive/MyDrive/Ethiopic-MNIST/Ethiopic_MNIST_\"\n",
        "\n",
        "X_test = np.load(path + \"X_test.npy\")\n",
        "y_test = np.load(path + \"y_test.npy\")"
      ],
      "metadata": {
        "id": "zLcSsTSw4yf9"
      },
      "execution_count": 2,
      "outputs": []
    },
    {
      "cell_type": "code",
      "source": [
        "def evaluate_and_display(model_path, X_test, y_test, title):\n",
        "    model = tf.keras.models.load_model(model_path)\n",
        "\n",
        "    y_pred = model.predict(X_test)\n",
        "    # Convert the predicted probabilities to class labels\n",
        "    y_pred_classes = np.argmax(y_pred, axis=1)\n",
        "\n",
        "    accuracy = accuracy_score(y_test, y_pred_classes)\n",
        "    precision = precision_score(y_test, y_pred_classes, average='weighted')\n",
        "    recall = recall_score(y_test, y_pred_classes, average='weighted')\n",
        "    f1 = f1_score(y_test, y_pred_classes, average='weighted')\n",
        "\n",
        "    print(title)\n",
        "    print(f'Accuracy: {accuracy:.4f}')\n",
        "    print(f'Precision: {precision:.4f}')\n",
        "    print(f'Recall: {recall:.4f}')\n",
        "    print(f'F1 Score: {f1:.4f}')\n",
        "\n",
        "\n",
        "fnn_model_path = '/content/drive/MyDrive/ML Models/Afro-MNIST_CNN_model0'\n",
        "cnn_model_path = '/content/drive/MyDrive/ML Models/Afro-MNIST_FNN_model0'\n",
        "\n",
        "evaluate_and_display(fnn_model_path, X_test, y_test, 'FNN Model 1 Evaluation')\n",
        "evaluate_and_display(cnn_model_path, X_test, y_test, 'CNN Model 2 Evaluation')"
      ],
      "metadata": {
        "colab": {
          "base_uri": "https://localhost:8080/"
        },
        "id": "GFlC8QV34u34",
        "outputId": "e80fc75b-f885-4e58-ae71-4e2257e65912"
      },
      "execution_count": 5,
      "outputs": [
        {
          "output_type": "stream",
          "name": "stdout",
          "text": [
            "313/313 [==============================] - 6s 18ms/step\n",
            "FNN Model 1 Evaluation\n",
            "Accuracy: 0.9995\n",
            "Precision: 0.9995\n",
            "Recall: 0.9995\n",
            "F1 Score: 0.9995\n",
            "313/313 [==============================] - 1s 3ms/step\n",
            "CNN Model 2 Evaluation\n",
            "Accuracy: 0.9898\n",
            "Precision: 0.9899\n",
            "Recall: 0.9898\n",
            "F1 Score: 0.9898\n"
          ]
        }
      ]
    },
    {
      "cell_type": "code",
      "source": [],
      "metadata": {
        "id": "Q-TQav-_7r0c"
      },
      "execution_count": null,
      "outputs": []
    }
  ]
}